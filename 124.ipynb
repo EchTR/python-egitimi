{
 "cells": [
  {
   "cell_type": "code",
   "execution_count": 1,
   "id": "b4793c19",
   "metadata": {},
   "outputs": [],
   "source": [
    "# github.com/echtr"
   ]
  },
  {
   "cell_type": "code",
   "execution_count": 2,
   "id": "3dd72a1e",
   "metadata": {},
   "outputs": [],
   "source": [
    "import numpy as np"
   ]
  },
  {
   "cell_type": "code",
   "execution_count": 8,
   "id": "d38910e8",
   "metadata": {},
   "outputs": [
    {
     "data": {
      "text/plain": [
       "array([[ 7, 10,  3,  0,  9,  2],\n",
       "       [ 9,  0,  7, 11,  8, 18],\n",
       "       [11, 13, 13, 10,  0,  2],\n",
       "       [ 2,  3, 18,  4, 18, 13],\n",
       "       [ 3, 15, 12,  1,  4, 10],\n",
       "       [ 7, 14, 18,  2,  8, 11]])"
      ]
     },
     "execution_count": 8,
     "metadata": {},
     "output_type": "execute_result"
    }
   ],
   "source": [
    "a = np.random.randint(20, size=(6, 6))\n",
    "a"
   ]
  },
  {
   "cell_type": "code",
   "execution_count": 12,
   "id": "f68fc326",
   "metadata": {},
   "outputs": [
    {
     "data": {
      "text/plain": [
       "array([[ 7, 10],\n",
       "       [ 9,  0],\n",
       "       [11, 13]])"
      ]
     },
     "execution_count": 12,
     "metadata": {},
     "output_type": "execute_result"
    }
   ],
   "source": [
    "alt_a = a[0:3, 0:2]\n",
    "alt_a"
   ]
  },
  {
   "cell_type": "code",
   "execution_count": 14,
   "id": "c00fe95e",
   "metadata": {},
   "outputs": [
    {
     "data": {
      "text/plain": [
       "array([[100,  10],\n",
       "       [  9,   0],\n",
       "       [ 11,  13]])"
      ]
     },
     "execution_count": 14,
     "metadata": {},
     "output_type": "execute_result"
    }
   ],
   "source": [
    "alt_a[0, 0] = 100\n",
    "alt_a"
   ]
  },
  {
   "cell_type": "code",
   "execution_count": 15,
   "id": "77836f1b",
   "metadata": {},
   "outputs": [
    {
     "data": {
      "text/plain": [
       "array([[100,  10,   3,   0,   9,   2],\n",
       "       [  9,   0,   7,  11,   8,  18],\n",
       "       [ 11,  13,  13,  10,   0,   2],\n",
       "       [  2,   3,  18,   4,  18,  13],\n",
       "       [  3,  15,  12,   1,   4,  10],\n",
       "       [  7,  14,  18,   2,   8,  11]])"
      ]
     },
     "execution_count": 15,
     "metadata": {},
     "output_type": "execute_result"
    }
   ],
   "source": [
    "a"
   ]
  },
  {
   "cell_type": "code",
   "execution_count": 17,
   "id": "9b7366d4",
   "metadata": {},
   "outputs": [
    {
     "data": {
      "text/plain": [
       "array([[ 2,  0,  1,  7, 11, 14],\n",
       "       [10,  7,  4, 13, 18, 13],\n",
       "       [ 1, 17,  0, 11, 17,  4],\n",
       "       [10, 10, 17,  4, 18, 18],\n",
       "       [ 2,  0, 14, 13, 15,  1],\n",
       "       [ 9, 16, 18, 19,  3, 14]])"
      ]
     },
     "execution_count": 17,
     "metadata": {},
     "output_type": "execute_result"
    }
   ],
   "source": [
    "# alt kümede yaptığımız değişiklik, ana kümedede meydana geldi\n",
    "# bunun seçilen alan ile sınırlı kalması için .copy() metodunu kullanacağız\n",
    "b = np.random.randint(20, size=(6,6))\n",
    "b"
   ]
  },
  {
   "cell_type": "code",
   "execution_count": 18,
   "id": "98e05feb",
   "metadata": {},
   "outputs": [
    {
     "data": {
      "text/plain": [
       "array([[ 2,  0],\n",
       "       [10,  7],\n",
       "       [ 1, 17]])"
      ]
     },
     "execution_count": 18,
     "metadata": {},
     "output_type": "execute_result"
    }
   ],
   "source": [
    "alt_b= b[0:3, 0:2].copy()\n",
    "alt_b"
   ]
  },
  {
   "cell_type": "code",
   "execution_count": 20,
   "id": "776c317a",
   "metadata": {},
   "outputs": [
    {
     "data": {
      "text/plain": [
       "array([[100,   0],\n",
       "       [ 10,   7],\n",
       "       [  1,  17]])"
      ]
     },
     "execution_count": 20,
     "metadata": {},
     "output_type": "execute_result"
    }
   ],
   "source": [
    "alt_b[0,0] = 100\n",
    "alt_b"
   ]
  },
  {
   "cell_type": "code",
   "execution_count": 21,
   "id": "fa2aad94",
   "metadata": {},
   "outputs": [
    {
     "data": {
      "text/plain": [
       "array([[ 2,  0,  1,  7, 11, 14],\n",
       "       [10,  7,  4, 13, 18, 13],\n",
       "       [ 1, 17,  0, 11, 17,  4],\n",
       "       [10, 10, 17,  4, 18, 18],\n",
       "       [ 2,  0, 14, 13, 15,  1],\n",
       "       [ 9, 16, 18, 19,  3, 14]])"
      ]
     },
     "execution_count": 21,
     "metadata": {},
     "output_type": "execute_result"
    }
   ],
   "source": [
    "b"
   ]
  },
  {
   "cell_type": "code",
   "execution_count": 22,
   "id": "85d06968",
   "metadata": {},
   "outputs": [],
   "source": [
    "# bu şekilde yaptığımız değişiklik ana kümeyi etkilemedi"
   ]
  }
 ],
 "metadata": {
  "kernelspec": {
   "display_name": "Python 3 (ipykernel)",
   "language": "python",
   "name": "python3"
  },
  "language_info": {
   "codemirror_mode": {
    "name": "ipython",
    "version": 3
   },
   "file_extension": ".py",
   "mimetype": "text/x-python",
   "name": "python",
   "nbconvert_exporter": "python",
   "pygments_lexer": "ipython3",
   "version": "3.9.4"
  }
 },
 "nbformat": 4,
 "nbformat_minor": 5
}
