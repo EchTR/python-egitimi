{
 "cells": [
  {
   "cell_type": "code",
   "execution_count": 1,
   "id": "cfced059",
   "metadata": {},
   "outputs": [],
   "source": [
    "# github.com/echtr"
   ]
  },
  {
   "cell_type": "code",
   "execution_count": 2,
   "id": "4790becb",
   "metadata": {},
   "outputs": [],
   "source": [
    "import numpy as np"
   ]
  },
  {
   "cell_type": "code",
   "execution_count": 12,
   "id": "e119f2cd",
   "metadata": {},
   "outputs": [
    {
     "data": {
      "text/plain": [
       "array([35,  8, 30, 12, 11, 26,  6, 13, 18, 47])"
      ]
     },
     "execution_count": 12,
     "metadata": {},
     "output_type": "execute_result"
    }
   ],
   "source": [
    "m = np.random.randint(50, size=10)\n",
    "m"
   ]
  },
  {
   "cell_type": "code",
   "execution_count": 13,
   "id": "e44d560a",
   "metadata": {},
   "outputs": [
    {
     "data": {
      "text/plain": [
       "35"
      ]
     },
     "execution_count": 13,
     "metadata": {},
     "output_type": "execute_result"
    }
   ],
   "source": [
    "# tek boyutlu dizelerde erişim\n",
    "m[0]"
   ]
  },
  {
   "cell_type": "code",
   "execution_count": 14,
   "id": "833b83e7",
   "metadata": {},
   "outputs": [
    {
     "data": {
      "text/plain": [
       "100"
      ]
     },
     "execution_count": 14,
     "metadata": {},
     "output_type": "execute_result"
    }
   ],
   "source": [
    "m[0] = 100\n",
    "m[0]"
   ]
  },
  {
   "cell_type": "code",
   "execution_count": 15,
   "id": "2801355f",
   "metadata": {},
   "outputs": [
    {
     "data": {
      "text/plain": [
       "47"
      ]
     },
     "execution_count": 15,
     "metadata": {},
     "output_type": "execute_result"
    }
   ],
   "source": [
    "m[-1]"
   ]
  },
  {
   "cell_type": "code",
   "execution_count": 16,
   "id": "076c5173",
   "metadata": {},
   "outputs": [
    {
     "data": {
      "text/plain": [
       "array([[ 0, 16, 17, 40, 42],\n",
       "       [15, 39, 37, 15, 22],\n",
       "       [ 4, 48, 29,  3, 31]])"
      ]
     },
     "execution_count": 16,
     "metadata": {},
     "output_type": "execute_result"
    }
   ],
   "source": [
    "# iki boyutlu dizelerde erişim\n",
    "m = np.random.randint(50, size=(3,5))\n",
    "m"
   ]
  },
  {
   "cell_type": "code",
   "execution_count": 24,
   "id": "bc0f03ff",
   "metadata": {},
   "outputs": [
    {
     "data": {
      "text/plain": [
       "0"
      ]
     },
     "execution_count": 24,
     "metadata": {},
     "output_type": "execute_result"
    }
   ],
   "source": [
    "m[0,0]"
   ]
  },
  {
   "cell_type": "code",
   "execution_count": 25,
   "id": "56fca112",
   "metadata": {},
   "outputs": [
    {
     "data": {
      "text/plain": [
       "15"
      ]
     },
     "execution_count": 25,
     "metadata": {},
     "output_type": "execute_result"
    }
   ],
   "source": [
    "# m[y, x] => m[satır, sütun]\n",
    "# her zamanki gibi 0'dan başlar\n",
    "m[1,0]"
   ]
  },
  {
   "cell_type": "code",
   "execution_count": 26,
   "id": "26ede888",
   "metadata": {},
   "outputs": [
    {
     "data": {
      "text/plain": [
       "29"
      ]
     },
     "execution_count": 26,
     "metadata": {},
     "output_type": "execute_result"
    }
   ],
   "source": [
    "m[2,2]"
   ]
  },
  {
   "cell_type": "code",
   "execution_count": 27,
   "id": "e9e39f03",
   "metadata": {},
   "outputs": [
    {
     "data": {
      "text/plain": [
       "-50"
      ]
     },
     "execution_count": 27,
     "metadata": {},
     "output_type": "execute_result"
    }
   ],
   "source": [
    "m[2, 2] = -50\n",
    "m[2, 2]"
   ]
  },
  {
   "cell_type": "code",
   "execution_count": 28,
   "id": "9194fb21",
   "metadata": {},
   "outputs": [
    {
     "data": {
      "text/plain": [
       "array([[  0,  16,  17,  40,  42],\n",
       "       [ 15,  39,  37,  15,  22],\n",
       "       [  4,  48, -50,   3,  31]])"
      ]
     },
     "execution_count": 28,
     "metadata": {},
     "output_type": "execute_result"
    }
   ],
   "source": [
    "# nparray verileri tek tip tuttuğundan dolayı eklenen float bir veri, ondalık kısmı kesilip koyulur\n",
    "m"
   ]
  },
  {
   "cell_type": "code",
   "execution_count": 30,
   "id": "548ca3e1",
   "metadata": {},
   "outputs": [
    {
     "data": {
      "text/plain": [
       "array([[  1,  16,  17,  40,  42],\n",
       "       [ 15,  39,  37,  15,  22],\n",
       "       [  4,  48, -50,   3,  31]])"
      ]
     },
     "execution_count": 30,
     "metadata": {},
     "output_type": "execute_result"
    }
   ],
   "source": [
    "m[0, 0] = 1.9\n",
    "m"
   ]
  },
  {
   "cell_type": "code",
   "execution_count": null,
   "id": "aa5f58b9",
   "metadata": {},
   "outputs": [],
   "source": [
    "# nparray tipi, oluşturulurken belirlenir. sonradan eklenenler arrayin tipini değiştirmez. "
   ]
  }
 ],
 "metadata": {
  "kernelspec": {
   "display_name": "Python 3 (ipykernel)",
   "language": "python",
   "name": "python3"
  },
  "language_info": {
   "codemirror_mode": {
    "name": "ipython",
    "version": 3
   },
   "file_extension": ".py",
   "mimetype": "text/x-python",
   "name": "python",
   "nbconvert_exporter": "python",
   "pygments_lexer": "ipython3",
   "version": "3.9.4"
  }
 },
 "nbformat": 4,
 "nbformat_minor": 5
}
