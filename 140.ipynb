{
 "cells": [
  {
   "cell_type": "code",
   "execution_count": 1,
   "id": "60bb9699",
   "metadata": {},
   "outputs": [],
   "source": [
    "# github.com/echtr"
   ]
  },
  {
   "cell_type": "code",
   "execution_count": null,
   "id": "fc3e0026",
   "metadata": {},
   "outputs": [],
   "source": [
    "# bu bölüm aggregate() fonksiyonunu içeriyor, bence şuradan daha rahat öğrenilebilir\n",
    "# https://www.geeksforgeeks.org/python-pandas-dataframe-aggregate/"
   ]
  }
 ],
 "metadata": {
  "kernelspec": {
   "display_name": "Python 3 (ipykernel)",
   "language": "python",
   "name": "python3"
  },
  "language_info": {
   "codemirror_mode": {
    "name": "ipython",
    "version": 3
   },
   "file_extension": ".py",
   "mimetype": "text/x-python",
   "name": "python",
   "nbconvert_exporter": "python",
   "pygments_lexer": "ipython3",
   "version": "3.9.4"
  }
 },
 "nbformat": 4,
 "nbformat_minor": 5
}
