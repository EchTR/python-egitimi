{
 "cells": [
  {
   "cell_type": "code",
   "execution_count": 1,
   "id": "829fa762",
   "metadata": {},
   "outputs": [],
   "source": [
    "# github.com/echtr"
   ]
  },
  {
   "cell_type": "code",
   "execution_count": 3,
   "id": "b09cec33",
   "metadata": {},
   "outputs": [],
   "source": [
    "import numpy as np"
   ]
  },
  {
   "cell_type": "code",
   "execution_count": 7,
   "id": "1ac7a709",
   "metadata": {},
   "outputs": [
    {
     "data": {
      "text/plain": [
       "array([1, 2, 3, 4, 5])"
      ]
     },
     "execution_count": 7,
     "metadata": {},
     "output_type": "execute_result"
    }
   ],
   "source": [
    "a = np.array([1, 2, 3, 4, 5])\n",
    "a"
   ]
  },
  {
   "cell_type": "code",
   "execution_count": 8,
   "id": "738ddc7d",
   "metadata": {},
   "outputs": [
    {
     "data": {
      "text/plain": [
       "numpy.ndarray"
      ]
     },
     "execution_count": 8,
     "metadata": {},
     "output_type": "execute_result"
    }
   ],
   "source": [
    "type(a)"
   ]
  },
  {
   "cell_type": "code",
   "execution_count": 11,
   "id": "ea97c938",
   "metadata": {},
   "outputs": [
    {
     "data": {
      "text/plain": [
       "array([1.  , 3.14, 2.  , 4.  ])"
      ]
     },
     "execution_count": 11,
     "metadata": {},
     "output_type": "execute_result"
    }
   ],
   "source": [
    "b = np.array([1, 3.14, 2, 4])\n",
    "b #bütün liste için elemanları tek tipe çevirdi böylelikle kaynaklardan tasarruf ediyor"
   ]
  },
  {
   "cell_type": "code",
   "execution_count": 12,
   "id": "3954109c",
   "metadata": {},
   "outputs": [
    {
     "data": {
      "text/plain": [
       "numpy.ndarray"
      ]
     },
     "execution_count": 12,
     "metadata": {},
     "output_type": "execute_result"
    }
   ],
   "source": [
    "type(b) # tip değişmiyor"
   ]
  },
  {
   "cell_type": "code",
   "execution_count": 15,
   "id": "d4c82cb9",
   "metadata": {},
   "outputs": [
    {
     "data": {
      "text/plain": [
       "array([0, 0, 0, 0, 0, 0, 0, 0, 0, 0])"
      ]
     },
     "execution_count": 15,
     "metadata": {},
     "output_type": "execute_result"
    }
   ],
   "source": [
    "# sıfırlardan numpy array oluşturma\n",
    "np.zeros(10) # 10 tane 0 ekle. - float veritipi\n",
    "np.zeros(10, dtype = \"int\") # 10 tane 0 ekle - int veritipi"
   ]
  },
  {
   "cell_type": "code",
   "execution_count": 17,
   "id": "7fb8b1f9",
   "metadata": {},
   "outputs": [
    {
     "data": {
      "text/plain": [
       "array([[1., 1., 1., 1., 1.],\n",
       "       [1., 1., 1., 1., 1.],\n",
       "       [1., 1., 1., 1., 1.]])"
      ]
     },
     "execution_count": 17,
     "metadata": {},
     "output_type": "execute_result"
    }
   ],
   "source": [
    "# iki boyutlu numpy array oluşturma\n",
    "np.ones((3,5)) # 1lerden oluşan 3 satır, 5 sütun nparray\n",
    "# dtype argümanı alabilir"
   ]
  },
  {
   "cell_type": "code",
   "execution_count": 18,
   "id": "f6fbd123",
   "metadata": {},
   "outputs": [
    {
     "data": {
      "text/plain": [
       "array([[7, 7, 7, 7, 7],\n",
       "       [7, 7, 7, 7, 7],\n",
       "       [7, 7, 7, 7, 7]])"
      ]
     },
     "execution_count": 18,
     "metadata": {},
     "output_type": "execute_result"
    }
   ],
   "source": [
    "# istediğimiz sayı ile 2 boyutlu nparray oluşturma\n",
    "np.full((3,5), 7) # 3 satır, 5 sütun bir nparray oluştur, her bir hücrede '7' yazsın"
   ]
  },
  {
   "cell_type": "code",
   "execution_count": 20,
   "id": "70c1ace1",
   "metadata": {},
   "outputs": [
    {
     "data": {
      "text/plain": [
       "array([ 0,  3,  6,  9, 12, 15, 18, 21, 24, 27, 30, 33, 36, 39, 42, 45, 48,\n",
       "       51, 54, 57, 60, 63, 66, 69, 72, 75, 78, 81, 84, 87, 90, 93, 96, 99])"
      ]
     },
     "execution_count": 20,
     "metadata": {},
     "output_type": "execute_result"
    }
   ],
   "source": [
    "# örüntü biçimde nparray oluşturma\n",
    "np.arange(0, 100, 3) # 0-100 aralığında 3'er artan dizi (0 dahil ama 100 dahil değil)"
   ]
  },
  {
   "cell_type": "code",
   "execution_count": 21,
   "id": "6ef286a6",
   "metadata": {},
   "outputs": [
    {
     "data": {
      "text/plain": [
       "array([0.        , 0.55555556, 1.11111111, 1.66666667, 2.22222222,\n",
       "       2.77777778, 3.33333333, 3.88888889, 4.44444444, 5.        ])"
      ]
     },
     "execution_count": 21,
     "metadata": {},
     "output_type": "execute_result"
    }
   ],
   "source": [
    "# bir aralığı parçalama\n",
    "np.linspace(0, 5, 10) # 0 ile 5 aralaığını 10 parçaya böl"
   ]
  },
  {
   "cell_type": "code",
   "execution_count": 24,
   "id": "ecd5e312",
   "metadata": {},
   "outputs": [
    {
     "data": {
      "text/plain": [
       "array([[ 7.63587258,  5.21330484,  7.42569737,  9.64144914,  7.53905675],\n",
       "       [ 6.62064365, 13.679259  , 11.37331473,  1.71073506, 10.27233205],\n",
       "       [ 4.08154326, 14.23512229, 10.07380254, 16.66842429, 12.07542376]])"
      ]
     },
     "execution_count": 24,
     "metadata": {},
     "output_type": "execute_result"
    }
   ],
   "source": [
    "# random.normal()\n",
    "np.random.normal(10, 4, (3, 5))\n",
    "# ortalaması 10, standart sapması 4 olan 3x5'lik rastgele bir nparray oluştur"
   ]
  },
  {
   "cell_type": "code",
   "execution_count": 27,
   "id": "77682f5b",
   "metadata": {},
   "outputs": [
    {
     "data": {
      "text/plain": [
       "array([[2, 4, 6],\n",
       "       [2, 8, 2],\n",
       "       [0, 3, 5]])"
      ]
     },
     "execution_count": 27,
     "metadata": {},
     "output_type": "execute_result"
    }
   ],
   "source": [
    "# random.randint()\n",
    "np.random.randint(0, 10, (3,3))\n",
    "# 0 ile 10 arasında değerlerin bulunduğu(0-10 dahil) 3x3'lük nparray oluştur"
   ]
  }
 ],
 "metadata": {
  "kernelspec": {
   "display_name": "Python 3 (ipykernel)",
   "language": "python",
   "name": "python3"
  },
  "language_info": {
   "codemirror_mode": {
    "name": "ipython",
    "version": 3
   },
   "file_extension": ".py",
   "mimetype": "text/x-python",
   "name": "python",
   "nbconvert_exporter": "python",
   "pygments_lexer": "ipython3",
   "version": "3.9.4"
  }
 },
 "nbformat": 4,
 "nbformat_minor": 5
}
