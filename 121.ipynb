{
 "cells": [
  {
   "cell_type": "code",
   "execution_count": 1,
   "id": "bd82f783",
   "metadata": {},
   "outputs": [],
   "source": [
    "# github.com/echtr"
   ]
  },
  {
   "cell_type": "code",
   "execution_count": 2,
   "id": "1c0347f7",
   "metadata": {},
   "outputs": [],
   "source": [
    "import numpy as np"
   ]
  },
  {
   "cell_type": "code",
   "execution_count": 3,
   "id": "5f8fdb84",
   "metadata": {},
   "outputs": [],
   "source": [
    "v = np.array([3, 4, 6, 1, 1, 2])"
   ]
  },
  {
   "cell_type": "code",
   "execution_count": 4,
   "id": "5f702032",
   "metadata": {},
   "outputs": [
    {
     "data": {
      "text/plain": [
       "array([1, 1, 2, 3, 4, 6])"
      ]
     },
     "execution_count": 4,
     "metadata": {},
     "output_type": "execute_result"
    }
   ],
   "source": [
    "np.sort(v)"
   ]
  },
  {
   "cell_type": "code",
   "execution_count": 5,
   "id": "69ff7bbe",
   "metadata": {},
   "outputs": [
    {
     "data": {
      "text/plain": [
       "array([3, 4, 6, 1, 1, 2])"
      ]
     },
     "execution_count": 5,
     "metadata": {},
     "output_type": "execute_result"
    }
   ],
   "source": [
    "v"
   ]
  },
  {
   "cell_type": "code",
   "execution_count": 6,
   "id": "60b72f4d",
   "metadata": {},
   "outputs": [],
   "source": [
    "# np.sort(degisken) methodu, nparray'in yapısını bozmaz"
   ]
  },
  {
   "cell_type": "code",
   "execution_count": 7,
   "id": "859a8636",
   "metadata": {},
   "outputs": [],
   "source": [
    "v.sort()"
   ]
  },
  {
   "cell_type": "code",
   "execution_count": 8,
   "id": "f7d1d3e0",
   "metadata": {},
   "outputs": [
    {
     "data": {
      "text/plain": [
       "array([1, 1, 2, 3, 4, 6])"
      ]
     },
     "execution_count": 8,
     "metadata": {},
     "output_type": "execute_result"
    }
   ],
   "source": [
    "v"
   ]
  },
  {
   "cell_type": "code",
   "execution_count": 9,
   "id": "e981075d",
   "metadata": {},
   "outputs": [],
   "source": [
    "# degisken.sort() şeklinde kullanımı ise bozar"
   ]
  },
  {
   "cell_type": "code",
   "execution_count": 11,
   "id": "cb2f2bce",
   "metadata": {},
   "outputs": [
    {
     "data": {
      "text/plain": [
       "array([[132.26602214,  67.45639158, 120.62665371],\n",
       "       [104.17894948,  97.85868379, 105.15826275],\n",
       "       [ 90.3849523 , 101.66771488,  66.55166883]])"
      ]
     },
     "execution_count": 11,
     "metadata": {},
     "output_type": "execute_result"
    }
   ],
   "source": [
    "# iki boyutlu array sıralama\n",
    "m = np.random.normal(100, 20, (3,3))\n",
    "m"
   ]
  },
  {
   "cell_type": "code",
   "execution_count": 12,
   "id": "ff012dcc",
   "metadata": {},
   "outputs": [
    {
     "data": {
      "text/plain": [
       "array([[ 90.3849523 ,  67.45639158,  66.55166883],\n",
       "       [104.17894948,  97.85868379, 105.15826275],\n",
       "       [132.26602214, 101.66771488, 120.62665371]])"
      ]
     },
     "execution_count": 12,
     "metadata": {},
     "output_type": "execute_result"
    }
   ],
   "source": [
    "np.sort(m, axis = 0) # sütunları sıralar"
   ]
  },
  {
   "cell_type": "code",
   "execution_count": 13,
   "id": "c69a3804",
   "metadata": {},
   "outputs": [
    {
     "data": {
      "text/plain": [
       "array([[ 67.45639158, 120.62665371, 132.26602214],\n",
       "       [ 97.85868379, 104.17894948, 105.15826275],\n",
       "       [ 66.55166883,  90.3849523 , 101.66771488]])"
      ]
     },
     "execution_count": 13,
     "metadata": {},
     "output_type": "execute_result"
    }
   ],
   "source": [
    "np.sort(m, axis = 1) # satırları sıralar"
   ]
  }
 ],
 "metadata": {
  "kernelspec": {
   "display_name": "Python 3 (ipykernel)",
   "language": "python",
   "name": "python3"
  },
  "language_info": {
   "codemirror_mode": {
    "name": "ipython",
    "version": 3
   },
   "file_extension": ".py",
   "mimetype": "text/x-python",
   "name": "python",
   "nbconvert_exporter": "python",
   "pygments_lexer": "ipython3",
   "version": "3.9.4"
  }
 },
 "nbformat": 4,
 "nbformat_minor": 5
}
