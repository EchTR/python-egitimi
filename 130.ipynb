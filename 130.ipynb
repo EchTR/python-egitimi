{
 "cells": [
  {
   "cell_type": "code",
   "execution_count": 1,
   "id": "c2e5637b",
   "metadata": {},
   "outputs": [],
   "source": [
    "# github.com/echtr\n",
    "# pandas'a başlıyorum"
   ]
  },
  {
   "cell_type": "code",
   "execution_count": 2,
   "id": "7ab71b17",
   "metadata": {},
   "outputs": [],
   "source": [
    "import pandas as pd"
   ]
  },
  {
   "cell_type": "code",
   "execution_count": 6,
   "id": "ecc90091",
   "metadata": {},
   "outputs": [
    {
     "data": {
      "text/plain": [
       "0    1\n",
       "1    2\n",
       "2    3\n",
       "3    4\n",
       "4    5\n",
       "dtype: int64"
      ]
     },
     "execution_count": 6,
     "metadata": {},
     "output_type": "execute_result"
    }
   ],
   "source": [
    "pd.Series([1, 2, 3, 4, 5]) # series oluşturma\n",
    "# series, 2 boyutlu ve belirli bir indexe sahip dizilerdir."
   ]
  },
  {
   "cell_type": "code",
   "execution_count": 7,
   "id": "d360b334",
   "metadata": {},
   "outputs": [],
   "source": [
    "seri = pd.Series([1, 2, 3, 4, 5])"
   ]
  },
  {
   "cell_type": "code",
   "execution_count": 8,
   "id": "841a2100",
   "metadata": {},
   "outputs": [
    {
     "data": {
      "text/plain": [
       "pandas.core.series.Series"
      ]
     },
     "execution_count": 8,
     "metadata": {},
     "output_type": "execute_result"
    }
   ],
   "source": [
    "type(seri)"
   ]
  },
  {
   "cell_type": "code",
   "execution_count": 10,
   "id": "37e2c0ca",
   "metadata": {},
   "outputs": [
    {
     "data": {
      "text/plain": [
       "[RangeIndex(start=0, stop=5, step=1)]"
      ]
     },
     "execution_count": 10,
     "metadata": {},
     "output_type": "execute_result"
    }
   ],
   "source": [
    "seri.axes #serinin index bilgileri / stop: 5'e kadar"
   ]
  },
  {
   "cell_type": "code",
   "execution_count": 11,
   "id": "b18aef97",
   "metadata": {},
   "outputs": [],
   "source": [
    "# seriler için numpy'daki dtype, ndim, size kullanılabilir"
   ]
  },
  {
   "cell_type": "code",
   "execution_count": 12,
   "id": "b1f5a6b3",
   "metadata": {},
   "outputs": [
    {
     "data": {
      "text/plain": [
       "array([1, 2, 3, 4, 5], dtype=int64)"
      ]
     },
     "execution_count": 12,
     "metadata": {},
     "output_type": "execute_result"
    }
   ],
   "source": [
    "seri.values"
   ]
  },
  {
   "cell_type": "code",
   "execution_count": 13,
   "id": "d8e55f34",
   "metadata": {},
   "outputs": [
    {
     "data": {
      "text/plain": [
       "0    1\n",
       "1    2\n",
       "2    3\n",
       "3    4\n",
       "4    5\n",
       "dtype: int64"
      ]
     },
     "execution_count": 13,
     "metadata": {},
     "output_type": "execute_result"
    }
   ],
   "source": [
    "seri.head() # varsayılan olarak ilk 5 satır. "
   ]
  },
  {
   "cell_type": "code",
   "execution_count": 14,
   "id": "77806188",
   "metadata": {},
   "outputs": [
    {
     "data": {
      "text/plain": [
       "0    1\n",
       "1    2\n",
       "dtype: int64"
      ]
     },
     "execution_count": 14,
     "metadata": {},
     "output_type": "execute_result"
    }
   ],
   "source": [
    "seri.head(2) # ilk 2 satır"
   ]
  },
  {
   "cell_type": "code",
   "execution_count": 15,
   "id": "492babbd",
   "metadata": {},
   "outputs": [
    {
     "data": {
      "text/plain": [
       "2    3\n",
       "3    4\n",
       "4    5\n",
       "dtype: int64"
      ]
     },
     "execution_count": 15,
     "metadata": {},
     "output_type": "execute_result"
    }
   ],
   "source": [
    "seri.tail(3) # son 3 satır / .head() ile kullanımı aynı"
   ]
  },
  {
   "cell_type": "code",
   "execution_count": 18,
   "id": "3fb17b7b",
   "metadata": {},
   "outputs": [
    {
     "data": {
      "text/plain": [
       "a    1\n",
       "b    2\n",
       "c    3\n",
       "d    4\n",
       "e    5\n",
       "dtype: int64"
      ]
     },
     "execution_count": 18,
     "metadata": {},
     "output_type": "execute_result"
    }
   ],
   "source": [
    "# özel index isimlendirmeleri yapma:\n",
    "seri = pd.Series([1, 2, 3, 4, 5], index=[\"a\", \"b\", \"c\", \"d\", \"e\"])\n",
    "seri"
   ]
  },
  {
   "cell_type": "code",
   "execution_count": 21,
   "id": "d38e439c",
   "metadata": {},
   "outputs": [
    {
     "data": {
      "text/plain": [
       "1"
      ]
     },
     "execution_count": 21,
     "metadata": {},
     "output_type": "execute_result"
    }
   ],
   "source": [
    "seri[\"a\"] # dict gibi kullanılabilir"
   ]
  },
  {
   "cell_type": "code",
   "execution_count": 22,
   "id": "dcf1c2f8",
   "metadata": {},
   "outputs": [
    {
     "data": {
      "text/plain": [
       "a    1\n",
       "b    2\n",
       "c    3\n",
       "dtype: int64"
      ]
     },
     "execution_count": 22,
     "metadata": {},
     "output_type": "execute_result"
    }
   ],
   "source": [
    "seri[\"a\":\"c\"]"
   ]
  },
  {
   "cell_type": "code",
   "execution_count": 24,
   "id": "0a16680b",
   "metadata": {},
   "outputs": [
    {
     "data": {
      "text/plain": [
       "elma     kırmızı\n",
       "armut      yeşil\n",
       "limon       sarı\n",
       "dtype: object"
      ]
     },
     "execution_count": 24,
     "metadata": {},
     "output_type": "execute_result"
    }
   ],
   "source": [
    "sozluk = pd.Series([\"kırmızı\",\"yeşil\",\"sarı\"], index = [\"elma\",\"armut\",\"limon\"])\n",
    "# pd.Series({\"kırmızı\":\"elma\", \"yeşil\":\"armut\", \"sarı\":\"limon\"})\n",
    "sozluk"
   ]
  },
  {
   "cell_type": "code",
   "execution_count": 27,
   "id": "b9e475ad",
   "metadata": {},
   "outputs": [
    {
     "data": {
      "text/plain": [
       "a    1\n",
       "b    2\n",
       "c    3\n",
       "d    4\n",
       "e    5\n",
       "a    1\n",
       "b    2\n",
       "c    3\n",
       "d    4\n",
       "e    5\n",
       "dtype: int64"
      ]
     },
     "execution_count": 27,
     "metadata": {},
     "output_type": "execute_result"
    }
   ],
   "source": [
    "# iki seriyi birleştirme\n",
    "yeni = pd.concat([seri, seri])\n",
    "yeni"
   ]
  },
  {
   "cell_type": "code",
   "execution_count": 29,
   "id": "91889839",
   "metadata": {},
   "outputs": [
    {
     "data": {
      "text/plain": [
       "a    1\n",
       "a    1\n",
       "dtype: int64"
      ]
     },
     "execution_count": 29,
     "metadata": {},
     "output_type": "execute_result"
    }
   ],
   "source": [
    "yeni[\"a\"] # filtreleyebilir?"
   ]
  }
 ],
 "metadata": {
  "kernelspec": {
   "display_name": "Python 3 (ipykernel)",
   "language": "python",
   "name": "python3"
  },
  "language_info": {
   "codemirror_mode": {
    "name": "ipython",
    "version": 3
   },
   "file_extension": ".py",
   "mimetype": "text/x-python",
   "name": "python",
   "nbconvert_exporter": "python",
   "pygments_lexer": "ipython3",
   "version": "3.9.4"
  }
 },
 "nbformat": 4,
 "nbformat_minor": 5
}
