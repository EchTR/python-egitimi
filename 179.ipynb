{
 "cells": [
  {
   "cell_type": "code",
   "execution_count": 1,
   "id": "cf72ef51",
   "metadata": {},
   "outputs": [],
   "source": [
    "# github.com/echtr"
   ]
  },
  {
   "cell_type": "code",
   "execution_count": 2,
   "id": "644bc4b4",
   "metadata": {},
   "outputs": [],
   "source": [
    "import numpy as np"
   ]
  },
  {
   "cell_type": "code",
   "execution_count": 5,
   "id": "5403efbd",
   "metadata": {},
   "outputs": [
    {
     "data": {
      "text/plain": [
       "array([37, 12, 72,  9, 75,  5, 79, 64, 16,  1])"
      ]
     },
     "execution_count": 5,
     "metadata": {},
     "output_type": "execute_result"
    }
   ],
   "source": [
    "np.random.seed(1)\n",
    "populasyon = np.random.randint(0, 90, 10000)\n",
    "populasyon[:10]\n",
    "# random seed son derece önemli çünkü aynı random seed, aynı sonucu verir"
   ]
  },
  {
   "cell_type": "code",
   "execution_count": 7,
   "id": "f76c8c10",
   "metadata": {},
   "outputs": [
    {
     "data": {
      "text/plain": [
       "array([37, 12, 72,  9, 75,  5, 79, 64, 16,  1])"
      ]
     },
     "execution_count": 7,
     "metadata": {},
     "output_type": "execute_result"
    }
   ],
   "source": [
    "np.random.seed(1)\n",
    "np.random.randint(0, 90, 10000)[:10] # aynı çıktıyı üretti"
   ]
  },
  {
   "cell_type": "code",
   "execution_count": 8,
   "id": "3143c1ab",
   "metadata": {},
   "outputs": [],
   "source": [
    "orneklem = np.random.choice(a = populasyon, size = 100)"
   ]
  },
  {
   "cell_type": "code",
   "execution_count": 10,
   "id": "9e249f19",
   "metadata": {},
   "outputs": [
    {
     "data": {
      "text/plain": [
       "(48.29, 44.6421)"
      ]
     },
     "execution_count": 10,
     "metadata": {},
     "output_type": "execute_result"
    }
   ],
   "source": [
    "orneklem.mean(), populasyon.mean()\n",
    "# arada ciddi bir fark yok. daha az güç kullanarak (100/10000) yakın bir sonuç ürettik"
   ]
  }
 ],
 "metadata": {
  "kernelspec": {
   "display_name": "Python 3 (ipykernel)",
   "language": "python",
   "name": "python3"
  },
  "language_info": {
   "codemirror_mode": {
    "name": "ipython",
    "version": 3
   },
   "file_extension": ".py",
   "mimetype": "text/x-python",
   "name": "python",
   "nbconvert_exporter": "python",
   "pygments_lexer": "ipython3",
   "version": "3.9.4"
  }
 },
 "nbformat": 4,
 "nbformat_minor": 5
}
