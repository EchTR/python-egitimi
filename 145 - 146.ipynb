{
 "cells": [
  {
   "cell_type": "code",
   "execution_count": 1,
   "id": "5336b7a0",
   "metadata": {},
   "outputs": [],
   "source": [
    "# github.com/echtr"
   ]
  },
  {
   "cell_type": "code",
   "execution_count": null,
   "id": "1b6d863d",
   "metadata": {},
   "outputs": [],
   "source": [
    "# bölüm 5 / ders 145: \n",
    "# bu bölüm verinin nasıl import edileceğini gösteriyor. bu bölümün yazılması pek de gerekli değil.\n",
    "\n",
    "# bölüm 5 / ders 146\n",
    "# bu bölüm döküman okuma ve problem çözme ile ilgili bir bölüm. yazılacak bir şey yok.\n",
    "\n",
    "# pandas'a özel bölüm 5 burada bitiyor."
   ]
  }
 ],
 "metadata": {
  "kernelspec": {
   "display_name": "Python 3 (ipykernel)",
   "language": "python",
   "name": "python3"
  },
  "language_info": {
   "codemirror_mode": {
    "name": "ipython",
    "version": 3
   },
   "file_extension": ".py",
   "mimetype": "text/x-python",
   "name": "python",
   "nbconvert_exporter": "python",
   "pygments_lexer": "ipython3",
   "version": "3.9.4"
  }
 },
 "nbformat": 4,
 "nbformat_minor": 5
}
