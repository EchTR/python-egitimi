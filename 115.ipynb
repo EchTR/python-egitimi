{
 "cells": [
  {
   "cell_type": "code",
   "execution_count": 11,
   "id": "3d254102",
   "metadata": {},
   "outputs": [],
   "source": [
    "# github.com/echtr"
   ]
  },
  {
   "cell_type": "code",
   "execution_count": 12,
   "id": "569293f5",
   "metadata": {},
   "outputs": [
    {
     "data": {
      "text/plain": [
       "[10, 18, 28, 40]"
      ]
     },
     "execution_count": 12,
     "metadata": {},
     "output_type": "execute_result"
    }
   ],
   "source": [
    "a = [2, 3, 4, 5]\n",
    "b = [5, 6, 7, 8]\n",
    "ab = []\n",
    "for i in range(0, len(a)):\n",
    "    ab.append(a[i] * b[i])\n",
    "ab"
   ]
  },
  {
   "cell_type": "code",
   "execution_count": 13,
   "id": "69db5de3",
   "metadata": {},
   "outputs": [],
   "source": [
    "import numpy as np"
   ]
  },
  {
   "cell_type": "code",
   "execution_count": 14,
   "id": "c408b215",
   "metadata": {},
   "outputs": [
    {
     "data": {
      "text/plain": [
       "array([10, 18, 28, 40])"
      ]
     },
     "execution_count": 14,
     "metadata": {},
     "output_type": "execute_result"
    }
   ],
   "source": [
    "a = np.array([2, 3, 4, 5])\n",
    "b = np.array([5, 6, 7, 8])\n",
    "ab = a * b\n",
    "ab"
   ]
  }
 ],
 "metadata": {
  "kernelspec": {
   "display_name": "Python 3 (ipykernel)",
   "language": "python",
   "name": "python3"
  },
  "language_info": {
   "codemirror_mode": {
    "name": "ipython",
    "version": 3
   },
   "file_extension": ".py",
   "mimetype": "text/x-python",
   "name": "python",
   "nbconvert_exporter": "python",
   "pygments_lexer": "ipython3",
   "version": "3.9.4"
  }
 },
 "nbformat": 4,
 "nbformat_minor": 5
}
