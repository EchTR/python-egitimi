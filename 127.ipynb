{
 "cells": [
  {
   "cell_type": "code",
   "execution_count": 1,
   "id": "6f04f323",
   "metadata": {},
   "outputs": [],
   "source": [
    "# github.com/echtr"
   ]
  },
  {
   "cell_type": "code",
   "execution_count": 2,
   "id": "eca056be",
   "metadata": {},
   "outputs": [],
   "source": [
    "import numpy as np"
   ]
  },
  {
   "cell_type": "code",
   "execution_count": 12,
   "id": "655577a7",
   "metadata": {},
   "outputs": [],
   "source": [
    "# ders 126'da yapılan işlemler fancy index temelliydi. şimdi ise işin arkaplanını inceleyeceğiz.\n",
    "# ufunc kavramı"
   ]
  },
  {
   "cell_type": "code",
   "execution_count": 4,
   "id": "c8820241",
   "metadata": {},
   "outputs": [
    {
     "data": {
      "text/plain": [
       "array([0, 1, 2, 3, 4, 5, 6, 7, 8, 9])"
      ]
     },
     "execution_count": 4,
     "metadata": {},
     "output_type": "execute_result"
    }
   ],
   "source": [
    "a = np.arange(10)\n",
    "a"
   ]
  },
  {
   "cell_type": "code",
   "execution_count": 6,
   "id": "2803fff4",
   "metadata": {},
   "outputs": [
    {
     "data": {
      "text/plain": [
       "array([-1,  0,  1,  2,  3,  4,  5,  6,  7,  8])"
      ]
     },
     "execution_count": 6,
     "metadata": {},
     "output_type": "execute_result"
    }
   ],
   "source": [
    "np.subtract(a, 1) # her elemandan 1 çıkar"
   ]
  },
  {
   "cell_type": "code",
   "execution_count": 7,
   "id": "0227a83e",
   "metadata": {},
   "outputs": [
    {
     "data": {
      "text/plain": [
       "array([ 1,  2,  3,  4,  5,  6,  7,  8,  9, 10])"
      ]
     },
     "execution_count": 7,
     "metadata": {},
     "output_type": "execute_result"
    }
   ],
   "source": [
    "np.add(a, 1) # her elemana 1 ekle"
   ]
  },
  {
   "cell_type": "code",
   "execution_count": 8,
   "id": "fc98a53f",
   "metadata": {},
   "outputs": [
    {
     "data": {
      "text/plain": [
       "array([ 0,  4,  8, 12, 16, 20, 24, 28, 32, 36])"
      ]
     },
     "execution_count": 8,
     "metadata": {},
     "output_type": "execute_result"
    }
   ],
   "source": [
    "np.multiply(a, 4) # her elemanı 4 ile çarp"
   ]
  },
  {
   "cell_type": "code",
   "execution_count": 11,
   "id": "b4ae496b",
   "metadata": {},
   "outputs": [
    {
     "data": {
      "text/plain": [
       "array([0.  , 0.25, 0.5 , 0.75, 1.  , 1.25, 1.5 , 1.75, 2.  , 2.25])"
      ]
     },
     "execution_count": 11,
     "metadata": {},
     "output_type": "execute_result"
    }
   ],
   "source": [
    "np.divide(a, 4) # her elemanı 4'e böl / yine float tabiiki"
   ]
  },
  {
   "cell_type": "code",
   "execution_count": 16,
   "id": "6f71a7bf",
   "metadata": {},
   "outputs": [
    {
     "data": {
      "text/plain": [
       "array([  0,   1,   8,  27,  64, 125, 216, 343, 512, 729], dtype=int32)"
      ]
     },
     "execution_count": 16,
     "metadata": {},
     "output_type": "execute_result"
    }
   ],
   "source": [
    "np.power(a, 3) #her elemanın 3. derecesini al\n",
    "# yine dtype döndürüyor ama bu şuana kadar bir sorun çıkarmadı."
   ]
  },
  {
   "cell_type": "code",
   "execution_count": 17,
   "id": "8f8d8f4f",
   "metadata": {},
   "outputs": [
    {
     "data": {
      "text/plain": [
       "array([0, 1, 0, 1, 0, 1, 0, 1, 0, 1], dtype=int32)"
      ]
     },
     "execution_count": 17,
     "metadata": {},
     "output_type": "execute_result"
    }
   ],
   "source": [
    "np.mod(a, 2) # her elemanın 2'ye bölümünden kalan"
   ]
  },
  {
   "cell_type": "code",
   "execution_count": 18,
   "id": "9ac166af",
   "metadata": {},
   "outputs": [
    {
     "data": {
      "text/plain": [
       "array([3, 1, 0, 9])"
      ]
     },
     "execution_count": 18,
     "metadata": {},
     "output_type": "execute_result"
    }
   ],
   "source": [
    "np.absolute([-3, 1, 0, -9]) # mutlak değer alma"
   ]
  },
  {
   "cell_type": "code",
   "execution_count": 19,
   "id": "9fee02e4",
   "metadata": {},
   "outputs": [
    {
     "data": {
      "text/plain": [
       "-0.9880316240928618"
      ]
     },
     "execution_count": 19,
     "metadata": {},
     "output_type": "execute_result"
    }
   ],
   "source": [
    "np.sin(30) # 30 derecenin sinüsü"
   ]
  },
  {
   "cell_type": "code",
   "execution_count": 20,
   "id": "94aa2ebc",
   "metadata": {},
   "outputs": [
    {
     "data": {
      "text/plain": [
       "0.15425144988758405"
      ]
     },
     "execution_count": 20,
     "metadata": {},
     "output_type": "execute_result"
    }
   ],
   "source": [
    "np.cos(30) # 30 derecenin kosinüsü"
   ]
  },
  {
   "cell_type": "code",
   "execution_count": 28,
   "id": "62c4a054",
   "metadata": {},
   "outputs": [],
   "source": [
    "tan = lambda x : np.sin(x)/np.cos(x) \n",
    "cot = lambda x : np.cos(x)/np.sin(x)"
   ]
  },
  {
   "cell_type": "code",
   "execution_count": 29,
   "id": "fd649d3e",
   "metadata": {},
   "outputs": [
    {
     "data": {
      "text/plain": [
       "-6.4053311966462765"
      ]
     },
     "execution_count": 29,
     "metadata": {},
     "output_type": "execute_result"
    }
   ],
   "source": [
    "tan(30)"
   ]
  },
  {
   "cell_type": "code",
   "execution_count": 39,
   "id": "bc867338",
   "metadata": {},
   "outputs": [
    {
     "data": {
      "text/plain": [
       "array([0.        , 0.69314718, 1.09861229, 1.38629436, 1.60943791,\n",
       "       1.79175947, 1.94591015, 2.07944154, 2.19722458])"
      ]
     },
     "execution_count": 39,
     "metadata": {},
     "output_type": "execute_result"
    }
   ],
   "source": [
    "np.log(a[1:]) # logaritma al"
   ]
  },
  {
   "cell_type": "code",
   "execution_count": 42,
   "id": "9d07ecbb",
   "metadata": {},
   "outputs": [
    {
     "name": "stdout",
     "output_type": "stream",
     "text": [
      "Object `np # yapabileceğimiz şeyler` not found.\n"
     ]
    }
   ],
   "source": [
    "?np # yapabileceğimiz şeyler\n",
    "# yorum satırı eklenemiyormuş. aşağıdaki kodu çalıştırınca bilgi kutucuğu gibi bir şey açılıyor"
   ]
  },
  {
   "cell_type": "code",
   "execution_count": 41,
   "id": "759868b2",
   "metadata": {},
   "outputs": [],
   "source": [
    "?np"
   ]
  },
  {
   "cell_type": "code",
   "execution_count": 43,
   "id": "a34d0583",
   "metadata": {},
   "outputs": [],
   "source": [
    "# numpy cheat sheet yazarak arşive matematiksel arşive ulaşılabilir\n",
    "# https://web.itu.edu.tr/iguzel/files/Python_Cheat_Sheets.pdf\n",
    "# https://s3.amazonaws.com/dq-blog-files/numpy-cheat-sheet.pdf"
   ]
  }
 ],
 "metadata": {
  "kernelspec": {
   "display_name": "Python 3 (ipykernel)",
   "language": "python",
   "name": "python3"
  },
  "language_info": {
   "codemirror_mode": {
    "name": "ipython",
    "version": 3
   },
   "file_extension": ".py",
   "mimetype": "text/x-python",
   "name": "python",
   "nbconvert_exporter": "python",
   "pygments_lexer": "ipython3",
   "version": "3.9.4"
  }
 },
 "nbformat": 4,
 "nbformat_minor": 5
}
