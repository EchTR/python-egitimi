{
 "cells": [
  {
   "cell_type": "code",
   "execution_count": 1,
   "id": "e09c7585",
   "metadata": {},
   "outputs": [],
   "source": [
    "# github.com/echtr"
   ]
  },
  {
   "cell_type": "code",
   "execution_count": 2,
   "id": "30407517",
   "metadata": {},
   "outputs": [],
   "source": [
    "import numpy as np"
   ]
  },
  {
   "cell_type": "code",
   "execution_count": 3,
   "id": "4281c1c0",
   "metadata": {},
   "outputs": [],
   "source": [
    "# problem: \n",
    "# 5 * x0 + x1 = 12\n",
    "# x0 + 3 * x1 = 10"
   ]
  },
  {
   "cell_type": "code",
   "execution_count": 6,
   "id": "36b633f0",
   "metadata": {},
   "outputs": [],
   "source": [
    "a = np.array([[5, 1], [1, 3]])\n",
    "# çözümleyelim: a[0] => ilk bilinmeyenin katsayısı, ikinci bilinmeyenin katsayısı. 1. satır\n",
    "# a[1] => ilk bilinmeynin katsayısı, ikinci bilinmeyenin katsayısı. 2.satır\n",
    "\n",
    "b = np.array([12, 10])\n",
    "# çözümleyelim: b[0] => ilk sonuç / b[1] => ikinci sonuç"
   ]
  },
  {
   "cell_type": "code",
   "execution_count": 9,
   "id": "f9f83e2e",
   "metadata": {},
   "outputs": [
    {
     "data": {
      "text/plain": [
       "array([1.85714286, 2.71428571])"
      ]
     },
     "execution_count": 9,
     "metadata": {},
     "output_type": "execute_result"
    }
   ],
   "source": [
    "cozum = np.linalg.solve(a, b)\n",
    "cozum\n",
    "# x0 => cozum[0] / x1 => cozum[1]\n",
    "# değişkenlerin ve denklemlerin aynı sırayla yazılması çok önemli. aksi halde ters yapar."
   ]
  }
 ],
 "metadata": {
  "kernelspec": {
   "display_name": "Python 3 (ipykernel)",
   "language": "python",
   "name": "python3"
  },
  "language_info": {
   "codemirror_mode": {
    "name": "ipython",
    "version": 3
   },
   "file_extension": ".py",
   "mimetype": "text/x-python",
   "name": "python",
   "nbconvert_exporter": "python",
   "pygments_lexer": "ipython3",
   "version": "3.9.4"
  }
 },
 "nbformat": 4,
 "nbformat_minor": 5
}
